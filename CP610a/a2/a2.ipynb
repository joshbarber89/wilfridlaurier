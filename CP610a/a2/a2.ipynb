{
 "cells": [
  {
   "cell_type": "code",
   "execution_count": 10,
   "metadata": {},
   "outputs": [
    {
     "name": "stdout",
     "output_type": "stream",
     "text": [
      "   index  b  30.83      0  u  g  w  v  1.25  t t.1 01  f g.1  00202  0.1  +\n",
      "0      0  a  58.67   4.46  u  g  q  h  3.04  t   t  6  f   g  00043  560  +\n",
      "1      1  a  24.50    0.5  u  g  q  h   1.5  t   f  0  f   g  00280  824  +\n",
      "2      2  b  27.83   1.54  u  g  w  v  3.75  t   t  5  t   g  00100    3  +\n",
      "3      3  b  20.17  5.625  u  g  w  v  1.71  t   f  0  f   s  00120    0  +\n",
      "4      4  b  32.08    4.0  u  g  m  v   2.5  t   f  0  t   g  00360    0  +\n",
      "            index\n",
      "count  690.000000\n",
      "mean   343.500000\n",
      "std    199.330128\n",
      "min     -1.000000\n",
      "25%    171.250000\n",
      "50%    343.500000\n",
      "75%    515.750000\n",
      "max    688.000000\n"
     ]
    }
   ],
   "source": [
    "import pandas as pd\n",
    "import os\n",
    "\n",
    "df = pd.read_csv(os.path.join(os.path.abspath(''),'crx_data.csv'), header=None)\n",
    "\n",
    "pd.set_option(\"display.min_rows\", df.shape[0]+1)\n",
    "pd.set_option('display.max_rows', df.shape[0]+1)\n",
    "\n",
    "df.loc[-1] = [\"b\", \"24.53\", \"2.345\", \"u\", \"g\", \"w\", \"h\", \"2.75\", \"t\", \"t\", \"4\", \"t\", \"s\", \"00279\", \"456\", \"+\"]\n",
    "df.reset_index(inplace=True)\n",
    "df.sort_index(inplace=True)\n",
    "\n",
    "print(df.head(5))\n",
    "print(df.describe())\n",
    "\n"
   ]
  }
 ],
 "metadata": {
  "kernelspec": {
   "display_name": "myenv",
   "language": "python",
   "name": "myenv"
  },
  "language_info": {
   "codemirror_mode": {
    "name": "ipython",
    "version": 3
   },
   "file_extension": ".py",
   "mimetype": "text/x-python",
   "name": "python",
   "nbconvert_exporter": "python",
   "pygments_lexer": "ipython3",
   "version": "3.10.4"
  },
  "orig_nbformat": 4
 },
 "nbformat": 4,
 "nbformat_minor": 2
}
