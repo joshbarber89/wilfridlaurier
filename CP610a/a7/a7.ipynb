{
 "cells": [
  {
   "cell_type": "code",
   "execution_count": 19,
   "metadata": {},
   "outputs": [
    {
     "name": "stdout",
     "output_type": "stream",
     "text": [
      "Performance of kNN regressor with n = 10 with Manhattan Distance: 0.8429333333333333\n",
      "Mean squared error: 0.04\n",
      "Coefficient of determination: 0.84\n",
      "\n",
      "\n",
      "Performance of kNN regressor with n = 10 with default metric: 0.8066871794871795\n",
      "Mean squared error: 0.04\n",
      "Coefficient of determination: 0.81\n"
     ]
    }
   ],
   "source": [
    "from sklearn.datasets import load_breast_cancer\n",
    "from sklearn.model_selection import train_test_split\n",
    "from sklearn.neighbors import KNeighborsRegressor\n",
    "from sklearn.metrics import mean_squared_error, r2_score\n",
    "def warn(*args, **kwargs):\n",
    "    pass\n",
    "import warnings\n",
    "warnings.warn = warn\n",
    "\n",
    "data_bunch = load_breast_cancer()\n",
    "\n",
    "bc_X, bc_y = data_bunch.data, data_bunch.target\n",
    "x_train, x_test, y_train, y_test = train_test_split(bc_X, bc_y, test_size=0.2)\n",
    "\n",
    "# Manhattan Distance metric\n",
    "def mydist(x, y):\n",
    "    distance = 0\n",
    "    for x1, y1 in zip(x, y):\n",
    "        difference = y1 - x1\n",
    "        absolute_difference = abs(difference)\n",
    "        distance += absolute_difference\n",
    "    return distance\n",
    "\n",
    "\n",
    "knn_regr = KNeighborsRegressor(n_neighbors=10, metric=mydist)\n",
    "knn_regr.fit(x_train, y_train)\n",
    "print(\"Performance of kNN regressor with n = 10 with Manhattan Distance:\", knn_regr.score(x_test, y_test))\n",
    "bc_y_pred = knn_regr.predict(x_test)\n",
    "print(\"Mean squared error: %.2f\" % mean_squared_error(y_test, bc_y_pred))\n",
    "print(\"Coefficient of determination: %.2f\" % r2_score(y_test, bc_y_pred))\n",
    "\n",
    "print(\"\\n\")\n",
    "\n",
    "knn_regr_default = KNeighborsRegressor(n_neighbors=10)\n",
    "knn_regr_default.fit(x_train, y_train)\n",
    "print(\"Performance of kNN regressor with n = 10 with default metric:\", knn_regr_default.score(x_test, y_test))\n",
    "bc_y_pred_default = knn_regr_default.predict(x_test)\n",
    "print(\"Mean squared error: %.2f\" % mean_squared_error(y_test, bc_y_pred_default))\n",
    "print(\"Coefficient of determination: %.2f\" % r2_score(y_test, bc_y_pred_default))"
   ]
  }
 ],
 "metadata": {
  "kernelspec": {
   "display_name": "Python 3",
   "language": "python",
   "name": "python3"
  },
  "language_info": {
   "codemirror_mode": {
    "name": "ipython",
    "version": 3
   },
   "file_extension": ".py",
   "mimetype": "text/x-python",
   "name": "python",
   "nbconvert_exporter": "python",
   "pygments_lexer": "ipython3",
   "version": "3.10.4"
  },
  "orig_nbformat": 4
 },
 "nbformat": 4,
 "nbformat_minor": 2
}
