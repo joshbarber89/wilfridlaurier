{
 "cells": [
  {
   "cell_type": "code",
   "execution_count": 15,
   "metadata": {},
   "outputs": [
    {
     "data": {
      "application/vnd.plotly.v1+json": {
       "config": {
        "plotlyServerURL": "https://plot.ly"
       },
       "data": [
        {
         "alignmentgroup": "True",
         "customdata": [
          [
           62.485,
           17876956
          ],
          [
           64.399,
           19610538
          ],
          [
           65.142,
           21283783
          ],
          [
           65.634,
           22934225
          ],
          [
           67.065,
           24779799
          ],
          [
           68.48100000000001,
           26983828
          ],
          [
           69.942,
           29341374
          ],
          [
           70.774,
           31620918
          ],
          [
           71.868,
           33958947
          ],
          [
           73.275,
           36203463
          ],
          [
           74.34,
           38331121
          ],
          [
           75.32,
           40301927
          ]
         ],
         "hovertemplate": "country=Argentina<br>year=%{x}<br>gdpPercap=%{y}<br>lifeExp=%{customdata[0]}<br>pop=%{customdata[1]}<extra></extra>",
         "legendgroup": "Argentina",
         "marker": {
          "color": "#636efa",
          "pattern": {
           "shape": ""
          }
         },
         "name": "Argentina",
         "offsetgroup": "Argentina",
         "orientation": "v",
         "showlegend": true,
         "textposition": "auto",
         "type": "bar",
         "x": [
          1952,
          1957,
          1962,
          1967,
          1972,
          1977,
          1982,
          1987,
          1992,
          1997,
          2002,
          2007
         ],
         "xaxis": "x",
         "y": [
          5911.315053,
          6856.8562120000015,
          7133.166023000002,
          8052.953020999998,
          9443.038526,
          10079.02674,
          8997.897412,
          9139.671389,
          9308.41871,
          10967.28195,
          8797.640716,
          12779.37964
         ],
         "yaxis": "y"
        },
        {
         "alignmentgroup": "True",
         "customdata": [
          [
           40.414,
           2883315
          ],
          [
           41.89,
           3211738
          ],
          [
           43.428,
           3593918
          ],
          [
           45.032,
           4040665
          ],
          [
           46.714,
           4565872
          ],
          [
           50.023,
           5079716
          ],
          [
           53.859,
           5642224
          ],
          [
           57.25100000000001,
           6156369
          ],
          [
           59.957,
           6893451
          ],
          [
           62.05,
           7693188
          ],
          [
           63.883,
           8445134
          ],
          [
           65.554,
           9119152
          ]
         ],
         "hovertemplate": "country=Bolivia<br>year=%{x}<br>gdpPercap=%{y}<br>lifeExp=%{customdata[0]}<br>pop=%{customdata[1]}<extra></extra>",
         "legendgroup": "Bolivia",
         "marker": {
          "color": "#EF553B",
          "pattern": {
           "shape": ""
          }
         },
         "name": "Bolivia",
         "offsetgroup": "Bolivia",
         "orientation": "v",
         "showlegend": true,
         "textposition": "auto",
         "type": "bar",
         "x": [
          1952,
          1957,
          1962,
          1967,
          1972,
          1977,
          1982,
          1987,
          1992,
          1997,
          2002,
          2007
         ],
         "xaxis": "x",
         "y": [
          2677.326347,
          2127.686326,
          2180.972546,
          2586.886053,
          2980.331339,
          3548.097832,
          3156.510452,
          2753.69149,
          2961.699694,
          3326.143191,
          3413.26269,
          3822.137084
         ],
         "yaxis": "y"
        },
        {
         "alignmentgroup": "True",
         "customdata": [
          [
           50.917,
           56602560
          ],
          [
           53.285,
           65551171
          ],
          [
           55.665,
           76039390
          ],
          [
           57.632,
           88049823
          ],
          [
           59.504,
           100840058
          ],
          [
           61.489,
           114313951
          ],
          [
           63.33600000000001,
           128962939
          ],
          [
           65.205,
           142938076
          ],
          [
           67.057,
           155975974
          ],
          [
           69.388,
           168546719
          ],
          [
           71.006,
           179914212
          ],
          [
           72.39,
           190010647
          ]
         ],
         "hovertemplate": "country=Brazil<br>year=%{x}<br>gdpPercap=%{y}<br>lifeExp=%{customdata[0]}<br>pop=%{customdata[1]}<extra></extra>",
         "legendgroup": "Brazil",
         "marker": {
          "color": "#00cc96",
          "pattern": {
           "shape": ""
          }
         },
         "name": "Brazil",
         "offsetgroup": "Brazil",
         "orientation": "v",
         "showlegend": true,
         "textposition": "auto",
         "type": "bar",
         "x": [
          1952,
          1957,
          1962,
          1967,
          1972,
          1977,
          1982,
          1987,
          1992,
          1997,
          2002,
          2007
         ],
         "xaxis": "x",
         "y": [
          2108.944355,
          2487.365989,
          3336.585802,
          3429.864357,
          4985.711467,
          6660.118654,
          7030.835878,
          7807.095818000002,
          6950.283020999998,
          7957.980823999998,
          8131.212843000001,
          9065.800825
         ],
         "yaxis": "y"
        },
        {
         "alignmentgroup": "True",
         "customdata": [
          [
           68.75,
           14785584
          ],
          [
           69.96,
           17010154
          ],
          [
           71.3,
           18985849
          ],
          [
           72.13,
           20819767
          ],
          [
           72.88,
           22284500
          ],
          [
           74.21,
           23796400
          ],
          [
           75.76,
           25201900
          ],
          [
           76.86,
           26549700
          ],
          [
           77.95,
           28523502
          ],
          [
           78.61,
           30305843
          ],
          [
           79.77,
           31902268
          ],
          [
           80.653,
           33390141
          ]
         ],
         "hovertemplate": "country=Canada<br>year=%{x}<br>gdpPercap=%{y}<br>lifeExp=%{customdata[0]}<br>pop=%{customdata[1]}<extra></extra>",
         "legendgroup": "Canada",
         "marker": {
          "color": "#ab63fa",
          "pattern": {
           "shape": ""
          }
         },
         "name": "Canada",
         "offsetgroup": "Canada",
         "orientation": "v",
         "showlegend": true,
         "textposition": "auto",
         "type": "bar",
         "x": [
          1952,
          1957,
          1962,
          1967,
          1972,
          1977,
          1982,
          1987,
          1992,
          1997,
          2002,
          2007
         ],
         "xaxis": "x",
         "y": [
          11367.16112,
          12489.95006,
          13462.48555,
          16076.58803,
          18970.57086,
          22090.88306,
          22898.79214,
          26626.51503,
          26342.88426,
          28954.92589,
          33328.96507,
          36319.23501
         ],
         "yaxis": "y"
        },
        {
         "alignmentgroup": "True",
         "customdata": [
          [
           54.745,
           6377619
          ],
          [
           56.074,
           7048426
          ],
          [
           57.924,
           7961258
          ],
          [
           60.523,
           8858908
          ],
          [
           63.441,
           9717524
          ],
          [
           67.05199999999999,
           10599793
          ],
          [
           70.565,
           11487112
          ],
          [
           72.492,
           12463354
          ],
          [
           74.126,
           13572994
          ],
          [
           75.816,
           14599929
          ],
          [
           77.86,
           15497046
          ],
          [
           78.553,
           16284741
          ]
         ],
         "hovertemplate": "country=Chile<br>year=%{x}<br>gdpPercap=%{y}<br>lifeExp=%{customdata[0]}<br>pop=%{customdata[1]}<extra></extra>",
         "legendgroup": "Chile",
         "marker": {
          "color": "#FFA15A",
          "pattern": {
           "shape": ""
          }
         },
         "name": "Chile",
         "offsetgroup": "Chile",
         "orientation": "v",
         "showlegend": true,
         "textposition": "auto",
         "type": "bar",
         "x": [
          1952,
          1957,
          1962,
          1967,
          1972,
          1977,
          1982,
          1987,
          1992,
          1997,
          2002,
          2007
         ],
         "xaxis": "x",
         "y": [
          3939.978789,
          4315.622723,
          4519.094331,
          5106.654313,
          5494.024437,
          4756.763836,
          5095.6657380000015,
          5547.063754,
          7596.125964,
          10118.05318,
          10778.78385,
          13171.63885
         ],
         "yaxis": "y"
        },
        {
         "alignmentgroup": "True",
         "customdata": [
          [
           50.643,
           12350771
          ],
          [
           55.118,
           14485993
          ],
          [
           57.863,
           17009885
          ],
          [
           59.963,
           19764027
          ],
          [
           61.62300000000001,
           22542890
          ],
          [
           63.837,
           25094412
          ],
          [
           66.653,
           27764644
          ],
          [
           67.768,
           30964245
          ],
          [
           68.421,
           34202721
          ],
          [
           70.313,
           37657830
          ],
          [
           71.682,
           41008227
          ],
          [
           72.889,
           44227550
          ]
         ],
         "hovertemplate": "country=Colombia<br>year=%{x}<br>gdpPercap=%{y}<br>lifeExp=%{customdata[0]}<br>pop=%{customdata[1]}<extra></extra>",
         "legendgroup": "Colombia",
         "marker": {
          "color": "#19d3f3",
          "pattern": {
           "shape": ""
          }
         },
         "name": "Colombia",
         "offsetgroup": "Colombia",
         "orientation": "v",
         "showlegend": true,
         "textposition": "auto",
         "type": "bar",
         "x": [
          1952,
          1957,
          1962,
          1967,
          1972,
          1977,
          1982,
          1987,
          1992,
          1997,
          2002,
          2007
         ],
         "xaxis": "x",
         "y": [
          2144.115096,
          2323.805581,
          2492.351109,
          2678.729839,
          3264.660041,
          3815.80787,
          4397.575659,
          4903.2191,
          5444.648617,
          6117.361746000001,
          5755.259962,
          7006.580419
         ],
         "yaxis": "y"
        },
        {
         "alignmentgroup": "True",
         "customdata": [
          [
           57.206,
           926317
          ],
          [
           60.026,
           1112300
          ],
          [
           62.842,
           1345187
          ],
          [
           65.42399999999999,
           1588717
          ],
          [
           67.84899999999999,
           1834796
          ],
          [
           70.75,
           2108457
          ],
          [
           73.45,
           2424367
          ],
          [
           74.752,
           2799811
          ],
          [
           75.71300000000002,
           3173216
          ],
          [
           77.26,
           3518107
          ],
          [
           78.123,
           3834934
          ],
          [
           78.782,
           4133884
          ]
         ],
         "hovertemplate": "country=Costa Rica<br>year=%{x}<br>gdpPercap=%{y}<br>lifeExp=%{customdata[0]}<br>pop=%{customdata[1]}<extra></extra>",
         "legendgroup": "Costa Rica",
         "marker": {
          "color": "#FF6692",
          "pattern": {
           "shape": ""
          }
         },
         "name": "Costa Rica",
         "offsetgroup": "Costa Rica",
         "orientation": "v",
         "showlegend": true,
         "textposition": "auto",
         "type": "bar",
         "x": [
          1952,
          1957,
          1962,
          1967,
          1972,
          1977,
          1982,
          1987,
          1992,
          1997,
          2002,
          2007
         ],
         "xaxis": "x",
         "y": [
          2627.0094710000008,
          2990.010802,
          3460.937025,
          4161.727834,
          5118.146939,
          5926.876967,
          5262.734751,
          5629.915318,
          6160.416317,
          6677.045314,
          7723.447195000002,
          9645.06142
         ],
         "yaxis": "y"
        },
        {
         "alignmentgroup": "True",
         "customdata": [
          [
           59.42100000000001,
           6007797
          ],
          [
           62.325,
           6640752
          ],
          [
           65.24600000000001,
           7254373
          ],
          [
           68.29,
           8139332
          ],
          [
           70.723,
           8831348
          ],
          [
           72.649,
           9537988
          ],
          [
           73.717,
           9789224
          ],
          [
           74.17399999999998,
           10239839
          ],
          [
           74.414,
           10723260
          ],
          [
           76.15100000000002,
           10983007
          ],
          [
           77.158,
           11226999
          ],
          [
           78.273,
           11416987
          ]
         ],
         "hovertemplate": "country=Cuba<br>year=%{x}<br>gdpPercap=%{y}<br>lifeExp=%{customdata[0]}<br>pop=%{customdata[1]}<extra></extra>",
         "legendgroup": "Cuba",
         "marker": {
          "color": "#B6E880",
          "pattern": {
           "shape": ""
          }
         },
         "name": "Cuba",
         "offsetgroup": "Cuba",
         "orientation": "v",
         "showlegend": true,
         "textposition": "auto",
         "type": "bar",
         "x": [
          1952,
          1957,
          1962,
          1967,
          1972,
          1977,
          1982,
          1987,
          1992,
          1997,
          2002,
          2007
         ],
         "xaxis": "x",
         "y": [
          5586.53878,
          6092.1743590000015,
          5180.75591,
          5690.268015,
          5305.445256,
          6380.494965999998,
          7316.918106999998,
          7532.924762999999,
          5592.843963,
          5431.990415,
          6340.646683,
          8948.102923
         ],
         "yaxis": "y"
        },
        {
         "alignmentgroup": "True",
         "customdata": [
          [
           45.928,
           2491346
          ],
          [
           49.828,
           2923186
          ],
          [
           53.459,
           3453434
          ],
          [
           56.75100000000001,
           4049146
          ],
          [
           59.631,
           4671329
          ],
          [
           61.788,
           5302800
          ],
          [
           63.727,
           5968349
          ],
          [
           66.046,
           6655297
          ],
          [
           68.457,
           7351181
          ],
          [
           69.957,
           7992357
          ],
          [
           70.847,
           8650322
          ],
          [
           72.235,
           9319622
          ]
         ],
         "hovertemplate": "country=Dominican Republic<br>year=%{x}<br>gdpPercap=%{y}<br>lifeExp=%{customdata[0]}<br>pop=%{customdata[1]}<extra></extra>",
         "legendgroup": "Dominican Republic",
         "marker": {
          "color": "#FF97FF",
          "pattern": {
           "shape": ""
          }
         },
         "name": "Dominican Republic",
         "offsetgroup": "Dominican Republic",
         "orientation": "v",
         "showlegend": true,
         "textposition": "auto",
         "type": "bar",
         "x": [
          1952,
          1957,
          1962,
          1967,
          1972,
          1977,
          1982,
          1987,
          1992,
          1997,
          2002,
          2007
         ],
         "xaxis": "x",
         "y": [
          1397.717137,
          1544.402995,
          1662.137359,
          1653.7230029999996,
          2189.874499,
          2681.9889,
          2861.092386,
          2899.842175,
          3044.214214,
          3614.101285,
          4563.808154,
          6025.3747520000015
         ],
         "yaxis": "y"
        },
        {
         "alignmentgroup": "True",
         "customdata": [
          [
           48.357,
           3548753
          ],
          [
           51.356,
           4058385
          ],
          [
           54.64,
           4681707
          ],
          [
           56.678,
           5432424
          ],
          [
           58.79600000000001,
           6298651
          ],
          [
           61.31,
           7278866
          ],
          [
           64.342,
           8365850
          ],
          [
           67.23100000000001,
           9545158
          ],
          [
           69.613,
           10748394
          ],
          [
           72.312,
           11911819
          ],
          [
           74.173,
           12921234
          ],
          [
           74.994,
           13755680
          ]
         ],
         "hovertemplate": "country=Ecuador<br>year=%{x}<br>gdpPercap=%{y}<br>lifeExp=%{customdata[0]}<br>pop=%{customdata[1]}<extra></extra>",
         "legendgroup": "Ecuador",
         "marker": {
          "color": "#FECB52",
          "pattern": {
           "shape": ""
          }
         },
         "name": "Ecuador",
         "offsetgroup": "Ecuador",
         "orientation": "v",
         "showlegend": true,
         "textposition": "auto",
         "type": "bar",
         "x": [
          1952,
          1957,
          1962,
          1967,
          1972,
          1977,
          1982,
          1987,
          1992,
          1997,
          2002,
          2007
         ],
         "xaxis": "x",
         "y": [
          3522.110717,
          3780.546651,
          4086.114078,
          4579.074215,
          5280.99471,
          6679.62326,
          7213.791267,
          6481.776993,
          7103.702595000002,
          7429.4558769999985,
          5773.044512,
          6873.262326000001
         ],
         "yaxis": "y"
        },
        {
         "alignmentgroup": "True",
         "customdata": [
          [
           45.262,
           2042865
          ],
          [
           48.57,
           2355805
          ],
          [
           52.307,
           2747687
          ],
          [
           55.855,
           3232927
          ],
          [
           58.207,
           3790903
          ],
          [
           56.69600000000001,
           4282586
          ],
          [
           56.604,
           4474873
          ],
          [
           63.154,
           4842194
          ],
          [
           66.798,
           5274649
          ],
          [
           69.535,
           5783439
          ],
          [
           70.734,
           6353681
          ],
          [
           71.878,
           6939688
          ]
         ],
         "hovertemplate": "country=El Salvador<br>year=%{x}<br>gdpPercap=%{y}<br>lifeExp=%{customdata[0]}<br>pop=%{customdata[1]}<extra></extra>",
         "legendgroup": "El Salvador",
         "marker": {
          "color": "#636efa",
          "pattern": {
           "shape": ""
          }
         },
         "name": "El Salvador",
         "offsetgroup": "El Salvador",
         "orientation": "v",
         "showlegend": true,
         "textposition": "auto",
         "type": "bar",
         "x": [
          1952,
          1957,
          1962,
          1967,
          1972,
          1977,
          1982,
          1987,
          1992,
          1997,
          2002,
          2007
         ],
         "xaxis": "x",
         "y": [
          3048.3029,
          3421.523218,
          3776.803627,
          4358.595393,
          4520.246008,
          5138.922374,
          4098.344175,
          4140.442097,
          4444.2317,
          5154.825496,
          5351.568665999999,
          5728.353514
         ],
         "yaxis": "y"
        },
        {
         "alignmentgroup": "True",
         "customdata": [
          [
           42.023,
           3146381
          ],
          [
           44.142,
           3640876
          ],
          [
           46.95399999999999,
           4208858
          ],
          [
           50.01600000000001,
           4690773
          ],
          [
           53.738,
           5149581
          ],
          [
           56.029,
           5703430
          ],
          [
           58.137,
           6395630
          ],
          [
           60.782,
           7326406
          ],
          [
           63.37300000000001,
           8486949
          ],
          [
           66.322,
           9803875
          ],
          [
           68.97800000000001,
           11178650
          ],
          [
           70.259,
           12572928
          ]
         ],
         "hovertemplate": "country=Guatemala<br>year=%{x}<br>gdpPercap=%{y}<br>lifeExp=%{customdata[0]}<br>pop=%{customdata[1]}<extra></extra>",
         "legendgroup": "Guatemala",
         "marker": {
          "color": "#EF553B",
          "pattern": {
           "shape": ""
          }
         },
         "name": "Guatemala",
         "offsetgroup": "Guatemala",
         "orientation": "v",
         "showlegend": true,
         "textposition": "auto",
         "type": "bar",
         "x": [
          1952,
          1957,
          1962,
          1967,
          1972,
          1977,
          1982,
          1987,
          1992,
          1997,
          2002,
          2007
         ],
         "xaxis": "x",
         "y": [
          2428.2377690000008,
          2617.155967,
          2750.364446,
          3242.531147,
          4031.408271,
          4879.992748,
          4820.49479,
          4246.485974,
          4439.45084,
          4684.313807,
          4858.347495,
          5186.050003
         ],
         "yaxis": "y"
        },
        {
         "alignmentgroup": "True",
         "customdata": [
          [
           37.579,
           3201488
          ],
          [
           40.696,
           3507701
          ],
          [
           43.59,
           3880130
          ],
          [
           46.243,
           4318137
          ],
          [
           48.042,
           4698301
          ],
          [
           49.923,
           4908554
          ],
          [
           51.46100000000001,
           5198399
          ],
          [
           53.636,
           5756203
          ],
          [
           55.089,
           6326682
          ],
          [
           56.67100000000001,
           6913545
          ],
          [
           58.137,
           7607651
          ],
          [
           60.916,
           8502814
          ]
         ],
         "hovertemplate": "country=Haiti<br>year=%{x}<br>gdpPercap=%{y}<br>lifeExp=%{customdata[0]}<br>pop=%{customdata[1]}<extra></extra>",
         "legendgroup": "Haiti",
         "marker": {
          "color": "#00cc96",
          "pattern": {
           "shape": ""
          }
         },
         "name": "Haiti",
         "offsetgroup": "Haiti",
         "orientation": "v",
         "showlegend": true,
         "textposition": "auto",
         "type": "bar",
         "x": [
          1952,
          1957,
          1962,
          1967,
          1972,
          1977,
          1982,
          1987,
          1992,
          1997,
          2002,
          2007
         ],
         "xaxis": "x",
         "y": [
          1840.366939,
          1726.887882,
          1796.589032,
          1452.057666,
          1654.456946,
          1874.298931,
          2011.159549,
          1823.015995,
          1456.309517,
          1341.726931,
          1270.364932,
          1201.637154
         ],
         "yaxis": "y"
        },
        {
         "alignmentgroup": "True",
         "customdata": [
          [
           41.912,
           1517453
          ],
          [
           44.665,
           1770390
          ],
          [
           48.041,
           2090162
          ],
          [
           50.924,
           2500689
          ],
          [
           53.88399999999999,
           2965146
          ],
          [
           57.402,
           3055235
          ],
          [
           60.909,
           3669448
          ],
          [
           64.492,
           4372203
          ],
          [
           66.399,
           5077347
          ],
          [
           67.65899999999999,
           5867957
          ],
          [
           68.565,
           6677328
          ],
          [
           70.19800000000001,
           7483763
          ]
         ],
         "hovertemplate": "country=Honduras<br>year=%{x}<br>gdpPercap=%{y}<br>lifeExp=%{customdata[0]}<br>pop=%{customdata[1]}<extra></extra>",
         "legendgroup": "Honduras",
         "marker": {
          "color": "#ab63fa",
          "pattern": {
           "shape": ""
          }
         },
         "name": "Honduras",
         "offsetgroup": "Honduras",
         "orientation": "v",
         "showlegend": true,
         "textposition": "auto",
         "type": "bar",
         "x": [
          1952,
          1957,
          1962,
          1967,
          1972,
          1977,
          1982,
          1987,
          1992,
          1997,
          2002,
          2007
         ],
         "xaxis": "x",
         "y": [
          2194.926204,
          2220.487682,
          2291.156835,
          2538.269358,
          2529.842345,
          3203.208066,
          3121.7607940000007,
          3023.096699,
          3081.694603,
          3160.454906,
          3099.72866,
          3548.3308460000007
         ],
         "yaxis": "y"
        },
        {
         "alignmentgroup": "True",
         "customdata": [
          [
           58.53,
           1426095
          ],
          [
           62.61,
           1535090
          ],
          [
           65.61,
           1665128
          ],
          [
           67.51,
           1861096
          ],
          [
           69,
           1997616
          ],
          [
           70.11,
           2156814
          ],
          [
           71.21,
           2298309
          ],
          [
           71.77,
           2326606
          ],
          [
           71.766,
           2378618
          ],
          [
           72.262,
           2531311
          ],
          [
           72.047,
           2664659
          ],
          [
           72.567,
           2780132
          ]
         ],
         "hovertemplate": "country=Jamaica<br>year=%{x}<br>gdpPercap=%{y}<br>lifeExp=%{customdata[0]}<br>pop=%{customdata[1]}<extra></extra>",
         "legendgroup": "Jamaica",
         "marker": {
          "color": "#FFA15A",
          "pattern": {
           "shape": ""
          }
         },
         "name": "Jamaica",
         "offsetgroup": "Jamaica",
         "orientation": "v",
         "showlegend": true,
         "textposition": "auto",
         "type": "bar",
         "x": [
          1952,
          1957,
          1962,
          1967,
          1972,
          1977,
          1982,
          1987,
          1992,
          1997,
          2002,
          2007
         ],
         "xaxis": "x",
         "y": [
          2898.530881,
          4756.525781,
          5246.107524,
          6124.703450999999,
          7433.889293000001,
          6650.195573,
          6068.05135,
          6351.237495,
          7404.923685,
          7121.924704000001,
          6994.774861,
          7320.8802620000015
         ],
         "yaxis": "y"
        },
        {
         "alignmentgroup": "True",
         "customdata": [
          [
           50.789,
           30144317
          ],
          [
           55.19,
           35015548
          ],
          [
           58.299,
           41121485
          ],
          [
           60.11,
           47995559
          ],
          [
           62.361,
           55984294
          ],
          [
           65.032,
           63759976
          ],
          [
           67.405,
           71640904
          ],
          [
           69.498,
           80122492
          ],
          [
           71.455,
           88111030
          ],
          [
           73.67,
           95895146
          ],
          [
           74.902,
           102479927
          ],
          [
           76.195,
           108700891
          ]
         ],
         "hovertemplate": "country=Mexico<br>year=%{x}<br>gdpPercap=%{y}<br>lifeExp=%{customdata[0]}<br>pop=%{customdata[1]}<extra></extra>",
         "legendgroup": "Mexico",
         "marker": {
          "color": "#19d3f3",
          "pattern": {
           "shape": ""
          }
         },
         "name": "Mexico",
         "offsetgroup": "Mexico",
         "orientation": "v",
         "showlegend": true,
         "textposition": "auto",
         "type": "bar",
         "x": [
          1952,
          1957,
          1962,
          1967,
          1972,
          1977,
          1982,
          1987,
          1992,
          1997,
          2002,
          2007
         ],
         "xaxis": "x",
         "y": [
          3478.125529,
          4131.546641,
          4581.609385,
          5754.733883,
          6809.406690000002,
          7674.929108,
          9611.147541,
          8688.156003,
          9472.384295,
          9767.29753,
          10742.44053,
          11977.57496
         ],
         "yaxis": "y"
        },
        {
         "alignmentgroup": "True",
         "customdata": [
          [
           42.31399999999999,
           1165790
          ],
          [
           45.432,
           1358828
          ],
          [
           48.632,
           1590597
          ],
          [
           51.88399999999999,
           1865490
          ],
          [
           55.151,
           2182908
          ],
          [
           57.47,
           2554598
          ],
          [
           59.298,
           2979423
          ],
          [
           62.008,
           3344353
          ],
          [
           65.843,
           4017939
          ],
          [
           68.426,
           4609572
          ],
          [
           70.836,
           5146848
          ],
          [
           72.899,
           5675356
          ]
         ],
         "hovertemplate": "country=Nicaragua<br>year=%{x}<br>gdpPercap=%{y}<br>lifeExp=%{customdata[0]}<br>pop=%{customdata[1]}<extra></extra>",
         "legendgroup": "Nicaragua",
         "marker": {
          "color": "#FF6692",
          "pattern": {
           "shape": ""
          }
         },
         "name": "Nicaragua",
         "offsetgroup": "Nicaragua",
         "orientation": "v",
         "showlegend": true,
         "textposition": "auto",
         "type": "bar",
         "x": [
          1952,
          1957,
          1962,
          1967,
          1972,
          1977,
          1982,
          1987,
          1992,
          1997,
          2002,
          2007
         ],
         "xaxis": "x",
         "y": [
          3112.363948,
          3457.415947,
          3634.364406,
          4643.393534000002,
          4688.593267,
          5486.371089,
          3470.3381560000007,
          2955.984375,
          2170.151724,
          2253.023004,
          2474.548819,
          2749.320965
         ],
         "yaxis": "y"
        },
        {
         "alignmentgroup": "True",
         "customdata": [
          [
           55.191,
           940080
          ],
          [
           59.201,
           1063506
          ],
          [
           61.817,
           1215725
          ],
          [
           64.071,
           1405486
          ],
          [
           66.21600000000001,
           1616384
          ],
          [
           68.681,
           1839782
          ],
          [
           70.472,
           2036305
          ],
          [
           71.523,
           2253639
          ],
          [
           72.462,
           2484997
          ],
          [
           73.738,
           2734531
          ],
          [
           74.712,
           2990875
          ],
          [
           75.53699999999998,
           3242173
          ]
         ],
         "hovertemplate": "country=Panama<br>year=%{x}<br>gdpPercap=%{y}<br>lifeExp=%{customdata[0]}<br>pop=%{customdata[1]}<extra></extra>",
         "legendgroup": "Panama",
         "marker": {
          "color": "#B6E880",
          "pattern": {
           "shape": ""
          }
         },
         "name": "Panama",
         "offsetgroup": "Panama",
         "orientation": "v",
         "showlegend": true,
         "textposition": "auto",
         "type": "bar",
         "x": [
          1952,
          1957,
          1962,
          1967,
          1972,
          1977,
          1982,
          1987,
          1992,
          1997,
          2002,
          2007
         ],
         "xaxis": "x",
         "y": [
          2480.380334,
          2961.800905,
          3536.540301,
          4421.009084,
          5364.249663000001,
          5351.912144,
          7009.601598,
          7034.779161,
          6618.74305,
          7113.692252,
          7356.0319340000015,
          9809.185636
         ],
         "yaxis": "y"
        },
        {
         "alignmentgroup": "True",
         "customdata": [
          [
           62.649,
           1555876
          ],
          [
           63.19600000000001,
           1770902
          ],
          [
           64.361,
           2009813
          ],
          [
           64.95100000000001,
           2287985
          ],
          [
           65.815,
           2614104
          ],
          [
           66.35300000000001,
           2984494
          ],
          [
           66.874,
           3366439
          ],
          [
           67.378,
           3886512
          ],
          [
           68.225,
           4483945
          ],
          [
           69.4,
           5154123
          ],
          [
           70.755,
           5884491
          ],
          [
           71.752,
           6667147
          ]
         ],
         "hovertemplate": "country=Paraguay<br>year=%{x}<br>gdpPercap=%{y}<br>lifeExp=%{customdata[0]}<br>pop=%{customdata[1]}<extra></extra>",
         "legendgroup": "Paraguay",
         "marker": {
          "color": "#FF97FF",
          "pattern": {
           "shape": ""
          }
         },
         "name": "Paraguay",
         "offsetgroup": "Paraguay",
         "orientation": "v",
         "showlegend": true,
         "textposition": "auto",
         "type": "bar",
         "x": [
          1952,
          1957,
          1962,
          1967,
          1972,
          1977,
          1982,
          1987,
          1992,
          1997,
          2002,
          2007
         ],
         "xaxis": "x",
         "y": [
          1952.308701,
          2046.154706,
          2148.027146,
          2299.376311,
          2523.337977,
          3248.373311,
          4258.503604,
          3998.875695,
          4196.411078,
          4247.400261,
          3783.674243,
          4172.838464
         ],
         "yaxis": "y"
        },
        {
         "alignmentgroup": "True",
         "customdata": [
          [
           43.902,
           8025700
          ],
          [
           46.26300000000001,
           9146100
          ],
          [
           49.096,
           10516500
          ],
          [
           51.445,
           12132200
          ],
          [
           55.448,
           13954700
          ],
          [
           58.447,
           15990099
          ],
          [
           61.40600000000001,
           18125129
          ],
          [
           64.134,
           20195924
          ],
          [
           66.458,
           22430449
          ],
          [
           68.38600000000001,
           24748122
          ],
          [
           69.906,
           26769436
          ],
          [
           71.421,
           28674757
          ]
         ],
         "hovertemplate": "country=Peru<br>year=%{x}<br>gdpPercap=%{y}<br>lifeExp=%{customdata[0]}<br>pop=%{customdata[1]}<extra></extra>",
         "legendgroup": "Peru",
         "marker": {
          "color": "#FECB52",
          "pattern": {
           "shape": ""
          }
         },
         "name": "Peru",
         "offsetgroup": "Peru",
         "orientation": "v",
         "showlegend": true,
         "textposition": "auto",
         "type": "bar",
         "x": [
          1952,
          1957,
          1962,
          1967,
          1972,
          1977,
          1982,
          1987,
          1992,
          1997,
          2002,
          2007
         ],
         "xaxis": "x",
         "y": [
          3758.523437,
          4245.256697999999,
          4957.037982,
          5788.09333,
          5937.827283,
          6281.290854999998,
          6434.501797,
          6360.943444,
          4446.380924,
          5838.347657,
          5909.020073,
          7408.905561
         ],
         "yaxis": "y"
        },
        {
         "alignmentgroup": "True",
         "customdata": [
          [
           64.28,
           2227000
          ],
          [
           68.54,
           2260000
          ],
          [
           69.62,
           2448046
          ],
          [
           71.1,
           2648961
          ],
          [
           72.16,
           2847132
          ],
          [
           73.44,
           3080828
          ],
          [
           73.75,
           3279001
          ],
          [
           74.63,
           3444468
          ],
          [
           73.911,
           3585176
          ],
          [
           74.917,
           3759430
          ],
          [
           77.778,
           3859606
          ],
          [
           78.74600000000002,
           3942491
          ]
         ],
         "hovertemplate": "country=Puerto Rico<br>year=%{x}<br>gdpPercap=%{y}<br>lifeExp=%{customdata[0]}<br>pop=%{customdata[1]}<extra></extra>",
         "legendgroup": "Puerto Rico",
         "marker": {
          "color": "#636efa",
          "pattern": {
           "shape": ""
          }
         },
         "name": "Puerto Rico",
         "offsetgroup": "Puerto Rico",
         "orientation": "v",
         "showlegend": true,
         "textposition": "auto",
         "type": "bar",
         "x": [
          1952,
          1957,
          1962,
          1967,
          1972,
          1977,
          1982,
          1987,
          1992,
          1997,
          2002,
          2007
         ],
         "xaxis": "x",
         "y": [
          3081.959785,
          3907.156189,
          5108.34463,
          6929.277714,
          9123.041742,
          9770.524921,
          10330.98915,
          12281.34191,
          14641.58711,
          16999.4333,
          18855.60618,
          19328.70901
         ],
         "yaxis": "y"
        },
        {
         "alignmentgroup": "True",
         "customdata": [
          [
           59.1,
           662850
          ],
          [
           61.8,
           764900
          ],
          [
           64.9,
           887498
          ],
          [
           65.4,
           960155
          ],
          [
           65.9,
           975199
          ],
          [
           68.3,
           1039009
          ],
          [
           68.832,
           1116479
          ],
          [
           69.582,
           1191336
          ],
          [
           69.862,
           1183669
          ],
          [
           69.465,
           1138101
          ],
          [
           68.976,
           1101832
          ],
          [
           69.819,
           1056608
          ]
         ],
         "hovertemplate": "country=Trinidad and Tobago<br>year=%{x}<br>gdpPercap=%{y}<br>lifeExp=%{customdata[0]}<br>pop=%{customdata[1]}<extra></extra>",
         "legendgroup": "Trinidad and Tobago",
         "marker": {
          "color": "#EF553B",
          "pattern": {
           "shape": ""
          }
         },
         "name": "Trinidad and Tobago",
         "offsetgroup": "Trinidad and Tobago",
         "orientation": "v",
         "showlegend": true,
         "textposition": "auto",
         "type": "bar",
         "x": [
          1952,
          1957,
          1962,
          1967,
          1972,
          1977,
          1982,
          1987,
          1992,
          1997,
          2002,
          2007
         ],
         "xaxis": "x",
         "y": [
          3023.271928,
          4100.3934,
          4997.523971000001,
          5621.368472,
          6619.551418999999,
          7899.554209000001,
          9119.528607,
          7388.597823,
          7370.990932,
          8792.573126000001,
          11460.60023,
          18008.50924
         ],
         "yaxis": "y"
        },
        {
         "alignmentgroup": "True",
         "customdata": [
          [
           68.44,
           157553000
          ],
          [
           69.49,
           171984000
          ],
          [
           70.21,
           186538000
          ],
          [
           70.76,
           198712000
          ],
          [
           71.34,
           209896000
          ],
          [
           73.38,
           220239000
          ],
          [
           74.65,
           232187835
          ],
          [
           75.02,
           242803533
          ],
          [
           76.09,
           256894189
          ],
          [
           76.81,
           272911760
          ],
          [
           77.31,
           287675526
          ],
          [
           78.242,
           301139947
          ]
         ],
         "hovertemplate": "country=United States<br>year=%{x}<br>gdpPercap=%{y}<br>lifeExp=%{customdata[0]}<br>pop=%{customdata[1]}<extra></extra>",
         "legendgroup": "United States",
         "marker": {
          "color": "#00cc96",
          "pattern": {
           "shape": ""
          }
         },
         "name": "United States",
         "offsetgroup": "United States",
         "orientation": "v",
         "showlegend": true,
         "textposition": "auto",
         "type": "bar",
         "x": [
          1952,
          1957,
          1962,
          1967,
          1972,
          1977,
          1982,
          1987,
          1992,
          1997,
          2002,
          2007
         ],
         "xaxis": "x",
         "y": [
          13990.482080000002,
          14847.12712,
          16173.14586,
          19530.36557,
          21806.03594,
          24072.63213,
          25009.55914,
          29884.350410000006,
          32003.93224,
          35767.43303,
          39097.09955,
          42951.65309
         ],
         "yaxis": "y"
        },
        {
         "alignmentgroup": "True",
         "customdata": [
          [
           66.071,
           2252965
          ],
          [
           67.044,
           2424959
          ],
          [
           68.253,
           2598466
          ],
          [
           68.468,
           2748579
          ],
          [
           68.673,
           2829526
          ],
          [
           69.48100000000001,
           2873520
          ],
          [
           70.805,
           2953997
          ],
          [
           71.918,
           3045153
          ],
          [
           72.752,
           3149262
          ],
          [
           74.223,
           3262838
          ],
          [
           75.307,
           3363085
          ],
          [
           76.384,
           3447496
          ]
         ],
         "hovertemplate": "country=Uruguay<br>year=%{x}<br>gdpPercap=%{y}<br>lifeExp=%{customdata[0]}<br>pop=%{customdata[1]}<extra></extra>",
         "legendgroup": "Uruguay",
         "marker": {
          "color": "#ab63fa",
          "pattern": {
           "shape": ""
          }
         },
         "name": "Uruguay",
         "offsetgroup": "Uruguay",
         "orientation": "v",
         "showlegend": true,
         "textposition": "auto",
         "type": "bar",
         "x": [
          1952,
          1957,
          1962,
          1967,
          1972,
          1977,
          1982,
          1987,
          1992,
          1997,
          2002,
          2007
         ],
         "xaxis": "x",
         "y": [
          5716.766744,
          6150.772969,
          5603.357717,
          5444.61962,
          5703.408898,
          6504.339663000002,
          6920.223051000001,
          7452.398969,
          8137.004775,
          9230.240708,
          7727.002004000001,
          10611.46299
         ],
         "yaxis": "y"
        },
        {
         "alignmentgroup": "True",
         "customdata": [
          [
           55.088,
           5439568
          ],
          [
           57.907,
           6702668
          ],
          [
           60.77,
           8143375
          ],
          [
           63.479,
           9709552
          ],
          [
           65.712,
           11515649
          ],
          [
           67.456,
           13503563
          ],
          [
           68.557,
           15620766
          ],
          [
           70.19,
           17910182
          ],
          [
           71.15,
           20265563
          ],
          [
           72.146,
           22374398
          ],
          [
           72.766,
           24287670
          ],
          [
           73.747,
           26084662
          ]
         ],
         "hovertemplate": "country=Venezuela<br>year=%{x}<br>gdpPercap=%{y}<br>lifeExp=%{customdata[0]}<br>pop=%{customdata[1]}<extra></extra>",
         "legendgroup": "Venezuela",
         "marker": {
          "color": "#FFA15A",
          "pattern": {
           "shape": ""
          }
         },
         "name": "Venezuela",
         "offsetgroup": "Venezuela",
         "orientation": "v",
         "showlegend": true,
         "textposition": "auto",
         "type": "bar",
         "x": [
          1952,
          1957,
          1962,
          1967,
          1972,
          1977,
          1982,
          1987,
          1992,
          1997,
          2002,
          2007
         ],
         "xaxis": "x",
         "y": [
          7689.799761,
          9802.466526,
          8422.974165000001,
          9541.474188,
          10505.25966,
          13143.95095,
          11152.41011,
          9883.584648,
          10733.92631,
          10165.49518,
          8605.047831,
          11415.80569
         ],
         "yaxis": "y"
        }
       ],
       "layout": {
        "barmode": "relative",
        "height": 400,
        "legend": {
         "title": {
          "text": "country"
         },
         "tracegroupgap": 0
        },
        "margin": {
         "t": 60
        },
        "template": {
         "data": {
          "bar": [
           {
            "error_x": {
             "color": "#2a3f5f"
            },
            "error_y": {
             "color": "#2a3f5f"
            },
            "marker": {
             "line": {
              "color": "#E5ECF6",
              "width": 0.5
             },
             "pattern": {
              "fillmode": "overlay",
              "size": 10,
              "solidity": 0.2
             }
            },
            "type": "bar"
           }
          ],
          "barpolar": [
           {
            "marker": {
             "line": {
              "color": "#E5ECF6",
              "width": 0.5
             },
             "pattern": {
              "fillmode": "overlay",
              "size": 10,
              "solidity": 0.2
             }
            },
            "type": "barpolar"
           }
          ],
          "carpet": [
           {
            "aaxis": {
             "endlinecolor": "#2a3f5f",
             "gridcolor": "white",
             "linecolor": "white",
             "minorgridcolor": "white",
             "startlinecolor": "#2a3f5f"
            },
            "baxis": {
             "endlinecolor": "#2a3f5f",
             "gridcolor": "white",
             "linecolor": "white",
             "minorgridcolor": "white",
             "startlinecolor": "#2a3f5f"
            },
            "type": "carpet"
           }
          ],
          "choropleth": [
           {
            "colorbar": {
             "outlinewidth": 0,
             "ticks": ""
            },
            "type": "choropleth"
           }
          ],
          "contour": [
           {
            "colorbar": {
             "outlinewidth": 0,
             "ticks": ""
            },
            "colorscale": [
             [
              0,
              "#0d0887"
             ],
             [
              0.1111111111111111,
              "#46039f"
             ],
             [
              0.2222222222222222,
              "#7201a8"
             ],
             [
              0.3333333333333333,
              "#9c179e"
             ],
             [
              0.4444444444444444,
              "#bd3786"
             ],
             [
              0.5555555555555556,
              "#d8576b"
             ],
             [
              0.6666666666666666,
              "#ed7953"
             ],
             [
              0.7777777777777778,
              "#fb9f3a"
             ],
             [
              0.8888888888888888,
              "#fdca26"
             ],
             [
              1,
              "#f0f921"
             ]
            ],
            "type": "contour"
           }
          ],
          "contourcarpet": [
           {
            "colorbar": {
             "outlinewidth": 0,
             "ticks": ""
            },
            "type": "contourcarpet"
           }
          ],
          "heatmap": [
           {
            "colorbar": {
             "outlinewidth": 0,
             "ticks": ""
            },
            "colorscale": [
             [
              0,
              "#0d0887"
             ],
             [
              0.1111111111111111,
              "#46039f"
             ],
             [
              0.2222222222222222,
              "#7201a8"
             ],
             [
              0.3333333333333333,
              "#9c179e"
             ],
             [
              0.4444444444444444,
              "#bd3786"
             ],
             [
              0.5555555555555556,
              "#d8576b"
             ],
             [
              0.6666666666666666,
              "#ed7953"
             ],
             [
              0.7777777777777778,
              "#fb9f3a"
             ],
             [
              0.8888888888888888,
              "#fdca26"
             ],
             [
              1,
              "#f0f921"
             ]
            ],
            "type": "heatmap"
           }
          ],
          "heatmapgl": [
           {
            "colorbar": {
             "outlinewidth": 0,
             "ticks": ""
            },
            "colorscale": [
             [
              0,
              "#0d0887"
             ],
             [
              0.1111111111111111,
              "#46039f"
             ],
             [
              0.2222222222222222,
              "#7201a8"
             ],
             [
              0.3333333333333333,
              "#9c179e"
             ],
             [
              0.4444444444444444,
              "#bd3786"
             ],
             [
              0.5555555555555556,
              "#d8576b"
             ],
             [
              0.6666666666666666,
              "#ed7953"
             ],
             [
              0.7777777777777778,
              "#fb9f3a"
             ],
             [
              0.8888888888888888,
              "#fdca26"
             ],
             [
              1,
              "#f0f921"
             ]
            ],
            "type": "heatmapgl"
           }
          ],
          "histogram": [
           {
            "marker": {
             "pattern": {
              "fillmode": "overlay",
              "size": 10,
              "solidity": 0.2
             }
            },
            "type": "histogram"
           }
          ],
          "histogram2d": [
           {
            "colorbar": {
             "outlinewidth": 0,
             "ticks": ""
            },
            "colorscale": [
             [
              0,
              "#0d0887"
             ],
             [
              0.1111111111111111,
              "#46039f"
             ],
             [
              0.2222222222222222,
              "#7201a8"
             ],
             [
              0.3333333333333333,
              "#9c179e"
             ],
             [
              0.4444444444444444,
              "#bd3786"
             ],
             [
              0.5555555555555556,
              "#d8576b"
             ],
             [
              0.6666666666666666,
              "#ed7953"
             ],
             [
              0.7777777777777778,
              "#fb9f3a"
             ],
             [
              0.8888888888888888,
              "#fdca26"
             ],
             [
              1,
              "#f0f921"
             ]
            ],
            "type": "histogram2d"
           }
          ],
          "histogram2dcontour": [
           {
            "colorbar": {
             "outlinewidth": 0,
             "ticks": ""
            },
            "colorscale": [
             [
              0,
              "#0d0887"
             ],
             [
              0.1111111111111111,
              "#46039f"
             ],
             [
              0.2222222222222222,
              "#7201a8"
             ],
             [
              0.3333333333333333,
              "#9c179e"
             ],
             [
              0.4444444444444444,
              "#bd3786"
             ],
             [
              0.5555555555555556,
              "#d8576b"
             ],
             [
              0.6666666666666666,
              "#ed7953"
             ],
             [
              0.7777777777777778,
              "#fb9f3a"
             ],
             [
              0.8888888888888888,
              "#fdca26"
             ],
             [
              1,
              "#f0f921"
             ]
            ],
            "type": "histogram2dcontour"
           }
          ],
          "mesh3d": [
           {
            "colorbar": {
             "outlinewidth": 0,
             "ticks": ""
            },
            "type": "mesh3d"
           }
          ],
          "parcoords": [
           {
            "line": {
             "colorbar": {
              "outlinewidth": 0,
              "ticks": ""
             }
            },
            "type": "parcoords"
           }
          ],
          "pie": [
           {
            "automargin": true,
            "type": "pie"
           }
          ],
          "scatter": [
           {
            "fillpattern": {
             "fillmode": "overlay",
             "size": 10,
             "solidity": 0.2
            },
            "type": "scatter"
           }
          ],
          "scatter3d": [
           {
            "line": {
             "colorbar": {
              "outlinewidth": 0,
              "ticks": ""
             }
            },
            "marker": {
             "colorbar": {
              "outlinewidth": 0,
              "ticks": ""
             }
            },
            "type": "scatter3d"
           }
          ],
          "scattercarpet": [
           {
            "marker": {
             "colorbar": {
              "outlinewidth": 0,
              "ticks": ""
             }
            },
            "type": "scattercarpet"
           }
          ],
          "scattergeo": [
           {
            "marker": {
             "colorbar": {
              "outlinewidth": 0,
              "ticks": ""
             }
            },
            "type": "scattergeo"
           }
          ],
          "scattergl": [
           {
            "marker": {
             "colorbar": {
              "outlinewidth": 0,
              "ticks": ""
             }
            },
            "type": "scattergl"
           }
          ],
          "scattermapbox": [
           {
            "marker": {
             "colorbar": {
              "outlinewidth": 0,
              "ticks": ""
             }
            },
            "type": "scattermapbox"
           }
          ],
          "scatterpolar": [
           {
            "marker": {
             "colorbar": {
              "outlinewidth": 0,
              "ticks": ""
             }
            },
            "type": "scatterpolar"
           }
          ],
          "scatterpolargl": [
           {
            "marker": {
             "colorbar": {
              "outlinewidth": 0,
              "ticks": ""
             }
            },
            "type": "scatterpolargl"
           }
          ],
          "scatterternary": [
           {
            "marker": {
             "colorbar": {
              "outlinewidth": 0,
              "ticks": ""
             }
            },
            "type": "scatterternary"
           }
          ],
          "surface": [
           {
            "colorbar": {
             "outlinewidth": 0,
             "ticks": ""
            },
            "colorscale": [
             [
              0,
              "#0d0887"
             ],
             [
              0.1111111111111111,
              "#46039f"
             ],
             [
              0.2222222222222222,
              "#7201a8"
             ],
             [
              0.3333333333333333,
              "#9c179e"
             ],
             [
              0.4444444444444444,
              "#bd3786"
             ],
             [
              0.5555555555555556,
              "#d8576b"
             ],
             [
              0.6666666666666666,
              "#ed7953"
             ],
             [
              0.7777777777777778,
              "#fb9f3a"
             ],
             [
              0.8888888888888888,
              "#fdca26"
             ],
             [
              1,
              "#f0f921"
             ]
            ],
            "type": "surface"
           }
          ],
          "table": [
           {
            "cells": {
             "fill": {
              "color": "#EBF0F8"
             },
             "line": {
              "color": "white"
             }
            },
            "header": {
             "fill": {
              "color": "#C8D4E3"
             },
             "line": {
              "color": "white"
             }
            },
            "type": "table"
           }
          ]
         },
         "layout": {
          "annotationdefaults": {
           "arrowcolor": "#2a3f5f",
           "arrowhead": 0,
           "arrowwidth": 1
          },
          "autotypenumbers": "strict",
          "coloraxis": {
           "colorbar": {
            "outlinewidth": 0,
            "ticks": ""
           }
          },
          "colorscale": {
           "diverging": [
            [
             0,
             "#8e0152"
            ],
            [
             0.1,
             "#c51b7d"
            ],
            [
             0.2,
             "#de77ae"
            ],
            [
             0.3,
             "#f1b6da"
            ],
            [
             0.4,
             "#fde0ef"
            ],
            [
             0.5,
             "#f7f7f7"
            ],
            [
             0.6,
             "#e6f5d0"
            ],
            [
             0.7,
             "#b8e186"
            ],
            [
             0.8,
             "#7fbc41"
            ],
            [
             0.9,
             "#4d9221"
            ],
            [
             1,
             "#276419"
            ]
           ],
           "sequential": [
            [
             0,
             "#0d0887"
            ],
            [
             0.1111111111111111,
             "#46039f"
            ],
            [
             0.2222222222222222,
             "#7201a8"
            ],
            [
             0.3333333333333333,
             "#9c179e"
            ],
            [
             0.4444444444444444,
             "#bd3786"
            ],
            [
             0.5555555555555556,
             "#d8576b"
            ],
            [
             0.6666666666666666,
             "#ed7953"
            ],
            [
             0.7777777777777778,
             "#fb9f3a"
            ],
            [
             0.8888888888888888,
             "#fdca26"
            ],
            [
             1,
             "#f0f921"
            ]
           ],
           "sequentialminus": [
            [
             0,
             "#0d0887"
            ],
            [
             0.1111111111111111,
             "#46039f"
            ],
            [
             0.2222222222222222,
             "#7201a8"
            ],
            [
             0.3333333333333333,
             "#9c179e"
            ],
            [
             0.4444444444444444,
             "#bd3786"
            ],
            [
             0.5555555555555556,
             "#d8576b"
            ],
            [
             0.6666666666666666,
             "#ed7953"
            ],
            [
             0.7777777777777778,
             "#fb9f3a"
            ],
            [
             0.8888888888888888,
             "#fdca26"
            ],
            [
             1,
             "#f0f921"
            ]
           ]
          },
          "colorway": [
           "#636efa",
           "#EF553B",
           "#00cc96",
           "#ab63fa",
           "#FFA15A",
           "#19d3f3",
           "#FF6692",
           "#B6E880",
           "#FF97FF",
           "#FECB52"
          ],
          "font": {
           "color": "#2a3f5f"
          },
          "geo": {
           "bgcolor": "white",
           "lakecolor": "white",
           "landcolor": "#E5ECF6",
           "showlakes": true,
           "showland": true,
           "subunitcolor": "white"
          },
          "hoverlabel": {
           "align": "left"
          },
          "hovermode": "closest",
          "mapbox": {
           "style": "light"
          },
          "paper_bgcolor": "white",
          "plot_bgcolor": "#E5ECF6",
          "polar": {
           "angularaxis": {
            "gridcolor": "white",
            "linecolor": "white",
            "ticks": ""
           },
           "bgcolor": "#E5ECF6",
           "radialaxis": {
            "gridcolor": "white",
            "linecolor": "white",
            "ticks": ""
           }
          },
          "scene": {
           "xaxis": {
            "backgroundcolor": "#E5ECF6",
            "gridcolor": "white",
            "gridwidth": 2,
            "linecolor": "white",
            "showbackground": true,
            "ticks": "",
            "zerolinecolor": "white"
           },
           "yaxis": {
            "backgroundcolor": "#E5ECF6",
            "gridcolor": "white",
            "gridwidth": 2,
            "linecolor": "white",
            "showbackground": true,
            "ticks": "",
            "zerolinecolor": "white"
           },
           "zaxis": {
            "backgroundcolor": "#E5ECF6",
            "gridcolor": "white",
            "gridwidth": 2,
            "linecolor": "white",
            "showbackground": true,
            "ticks": "",
            "zerolinecolor": "white"
           }
          },
          "shapedefaults": {
           "line": {
            "color": "#2a3f5f"
           }
          },
          "ternary": {
           "aaxis": {
            "gridcolor": "white",
            "linecolor": "white",
            "ticks": ""
           },
           "baxis": {
            "gridcolor": "white",
            "linecolor": "white",
            "ticks": ""
           },
           "bgcolor": "#E5ECF6",
           "caxis": {
            "gridcolor": "white",
            "linecolor": "white",
            "ticks": ""
           }
          },
          "title": {
           "x": 0.05
          },
          "xaxis": {
           "automargin": true,
           "gridcolor": "white",
           "linecolor": "white",
           "ticks": "",
           "title": {
            "standoff": 15
           },
           "zerolinecolor": "white",
           "zerolinewidth": 2
          },
          "yaxis": {
           "automargin": true,
           "gridcolor": "white",
           "linecolor": "white",
           "ticks": "",
           "title": {
            "standoff": 15
           },
           "zerolinecolor": "white",
           "zerolinewidth": 2
          }
         }
        },
        "xaxis": {
         "anchor": "y",
         "domain": [
          0,
          1
         ],
         "title": {
          "text": "year"
         }
        },
        "yaxis": {
         "anchor": "x",
         "domain": [
          0,
          1
         ],
         "title": {
          "text": "gdpPercap"
         }
        }
       }
      }
     },
     "metadata": {},
     "output_type": "display_data"
    }
   ],
   "source": [
    "import plotly.express as px\n",
    "\n",
    "df = px.data.gapminder().query(\"continent == 'Americas'\")\n",
    "df.head()\n",
    "fig = px.bar(df, x='year', y='gdpPercap',\n",
    "             hover_data=['lifeExp', 'pop'], color='country',\n",
    "             height=400)\n",
    "fig.show()"
   ]
  }
 ],
 "metadata": {
  "kernelspec": {
   "display_name": "Python 3",
   "language": "python",
   "name": "python3"
  },
  "language_info": {
   "codemirror_mode": {
    "name": "ipython",
    "version": 3
   },
   "file_extension": ".py",
   "mimetype": "text/x-python",
   "name": "python",
   "nbconvert_exporter": "python",
   "pygments_lexer": "ipython3",
   "version": "3.10.4"
  },
  "orig_nbformat": 4
 },
 "nbformat": 4,
 "nbformat_minor": 2
}
