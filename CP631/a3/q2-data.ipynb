{
 "cells": [
  {
   "cell_type": "code",
   "execution_count": null,
   "metadata": {},
   "outputs": [],
   "source": [
    "import findspark\n",
    "findspark.init()\n",
    "import pyspark\n",
    "from operator import add\n",
    "import json\n",
    "import matplotlib.pyplot as plt\n",
    "\n",
    "#Python 3.6 was used.\n",
    "conf = pyspark.SparkConf().setAppName(\"NHLStats\")\n",
    "\n",
    "sc = pyspark.SparkContext(conf=conf)\n",
    "\n",
    "# Grab all local stats pages with a number int them\n",
    "number_range=\"[0-9]\"\n",
    "stats_page_json = sc.textFile(\"./*page*\"+number_range+\"*.json\")\n",
    "\n",
    "# RDD data structure loads all NHL stats for all years\n",
    "stats_page = stats_page_json.map(json.loads)"
   ]
  },
  {
   "cell_type": "code",
   "execution_count": null,
   "metadata": {},
   "outputs": [],
   "source": [
    "# RDD structure with all season stat values flatmapped to have just players, no years as keys\n",
    "stats_page_for_all_seasons = stats_page.flatMap(lambda x: x[1]) "
   ]
  },
  {
   "cell_type": "code",
   "execution_count": null,
   "metadata": {},
   "outputs": [],
   "source": [
    "#RDD structure that groups stats for each player per season\n",
    "base_combined_player_stats = stats_page_for_all_seasons.groupBy(lambda x: x['playerId']).mapValues(list)"
   ]
  },
  {
   "cell_type": "code",
   "execution_count": null,
   "metadata": {},
   "outputs": [],
   "source": [
    "# Convert string values from JSON into ints and grab important statistics and map it out\n",
    "def getStatsCombined(val):\n",
    "    id = 0\n",
    "    name = \"\"\n",
    "    gp = 0\n",
    "    totalpoints = 0\n",
    "    avg = 0\n",
    "    goals = 0\n",
    "    assists = 0\n",
    "    plusMinus = 0\n",
    "    blockedShots = 0\n",
    "    hits = 0\n",
    "    shots = 0\n",
    "    pim = 0\n",
    "    shotPercentage = 0\n",
    "    teamId = ''\n",
    "    if val:\n",
    "        for v in val:\n",
    "            id = v['playerId']\n",
    "            stats = v['stats']\n",
    "            teamId = stats['competitor-seo-identifier']\n",
    "            totalpoints += int(stats['points'])\n",
    "            gp += int(stats['gamesPlayed'])\n",
    "            name = stats['firstName'] + \" \" + stats['lastName']\n",
    "            goals += int(stats['goals'])\n",
    "            assists += int(stats['assists'])\n",
    "            plusMinus += int(stats['plusMinus'])\n",
    "            blockedShots += int(stats['blockedShots'])\n",
    "            hits += int(stats['hits'])\n",
    "            shots += int(stats['shotsOnGoal'])\n",
    "            pim += int(stats['penaltyInMinutes'])\n",
    "        avg = totalpoints / gp\n",
    "        shotPercentage = shots / goals if goals > 0 else 0\n",
    "    return {\n",
    "        \"id\": id, \"team\": teamId, \"name\": name, \"gamesPlayed\" : gp, \"points\": totalpoints,\n",
    "        \"averagePointsPerGame\": avg, \"goals\" : goals, \"assists\": assists,\n",
    "        \"plusMinus\": plusMinus, \"blockedShots\": blockedShots, \"hits\": hits,\n",
    "        \"shots\": shots, \"shotPercentage\": shotPercentage, \"PIM\": pim\n",
    "    }\n",
    "\n",
    "combined_player_season_stats = base_combined_player_stats.map(lambda x: x[1]).map(getStatsCombined)\n",
    "\n",
    "#With the mapping, its easy now to see who the top performers are over all NHL seasons.\n",
    "top_performers_over_seasons = combined_player_season_stats.filter(lambda x: x['gamesPlayed'] > 50).sortBy(lambda x: x['averagePointsPerGame'], False)\n",
    "\n",
    "top_ten = top_performers_over_seasons.map(lambda x: x['name']).take(10)\n",
    "\n",
    "print(top_ten)"
   ]
  },
  {
   "cell_type": "code",
   "execution_count": null,
   "metadata": {},
   "outputs": [],
   "source": [
    "# Map stats to specific teams from the players\n",
    "def teamStats(val):\n",
    "    goals = 0\n",
    "    if val:\n",
    "        goals += val['goals']\n",
    "\n",
    "    return goals\n",
    "\n",
    "goals_per_team = combined_player_season_stats.keyBy(lambda a: a['team']).mapValues(teamStats).reduceByKey(add).collect()"
   ]
  },
  {
   "cell_type": "code",
   "execution_count": null,
   "metadata": {},
   "outputs": [],
   "source": [
    "#Plot the goals per team\n",
    "years = stats_page.keys().collect()\n",
    "years = [int(x) for x in years]\n",
    "\n",
    "teams = list()\n",
    "values = list()\n",
    "for k,x in goals_per_team:\n",
    "    teams.append(k[:3])\n",
    "    values.append(x)\n",
    "teams.sort()\n",
    "\n",
    "ylabel = \"Goals over \" + str(min(years)) + \" to \" + str(max(years))\n",
    "\n",
    "plt.bar(teams, values)\n",
    "plt.ylabel(ylabel)\n",
    "plt.xlabel(\"Teams\")\n",
    "plt.show()"
   ]
  },
  {
   "cell_type": "code",
   "execution_count": null,
   "metadata": {},
   "outputs": [],
   "source": [
    "#Combined statistics per season for all players\n",
    "# mapped out the important stats\n",
    "def seasonCombinedStats(val):\n",
    "    goals = 0\n",
    "    ppgoals = 0\n",
    "    pims = 0\n",
    "    if val:\n",
    "        for v in val:\n",
    "            stats = v['stats']\n",
    "            goals += int(stats['goals'])\n",
    "            ppgoals += int(stats['ppGoals'])\n",
    "            pims += int(stats['penaltyInMinutes'])\n",
    "    return {'goals':goals, 'pim': pims, 'ppgoals': ppgoals}\n",
    "\n",
    "season_combined_stats = stats_page.mapValues(seasonCombinedStats)\n"
   ]
  },
  {
   "cell_type": "code",
   "execution_count": null,
   "metadata": {},
   "outputs": [],
   "source": [
    "#Plot the graph of combined season statistics\n",
    "years = list(season_combined_stats.map(lambda x: x[0]).collect())\n",
    "goals = list(season_combined_stats.map(lambda x: x[1]['goals']).collect())\n",
    "pim = list(season_combined_stats.map(lambda x: x[1]['pim']).collect())\n",
    "ppgoals = list(season_combined_stats.map(lambda x: x[1]['ppgoals']).collect())\n",
    "\n",
    "\n",
    "plt.plot(years,goals,'.b--', years, pim, '.g:', years, ppgoals, '.r-')\n",
    "plt.legend(('Goals', 'PIM', 'PP Goals'),\n",
    "           loc='upper center', shadow=True)\n",
    "plt.show()"
   ]
  }
 ],
 "metadata": {
  "kernelspec": {
   "display_name": "Python 3.6.13 ('py36')",
   "language": "python",
   "name": "python3"
  },
  "language_info": {
   "name": "python",
   "version": "3.6.13"
  },
  "orig_nbformat": 4,
  "vscode": {
   "interpreter": {
    "hash": "41400c10255f571e07ce44b016d33a69ccbf16b57d557391c4ff18caad3f1d0c"
   }
  }
 },
 "nbformat": 4,
 "nbformat_minor": 2
}
